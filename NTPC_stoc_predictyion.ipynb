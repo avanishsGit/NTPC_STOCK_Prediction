{
 "cells": [
  {
   "cell_type": "code",
   "execution_count": 2,
   "id": "cf7b1641",
   "metadata": {},
   "outputs": [],
   "source": [
    "#pip install yfinance\n",
    "#yahoo finance as data source\n",
    "import yfinance as yf"
   ]
  },
  {
   "cell_type": "code",
   "execution_count": 3,
   "id": "9b6e6b00",
   "metadata": {},
   "outputs": [],
   "source": [
    "stock_symbol = 'NTPC.NS'"
   ]
  },
  {
   "cell_type": "code",
   "execution_count": 4,
   "id": "f91ea674",
   "metadata": {},
   "outputs": [
    {
     "name": "stdout",
     "output_type": "stream",
     "text": [
      "[*********************100%***********************]  1 of 1 completed\n"
     ]
    }
   ],
   "source": [
    "#last 5 years of data with interval 1 day\n",
    "data = yf.download(tickers=stock_symbol,period='5y',interval='1d')"
   ]
  },
  {
   "cell_type": "code",
   "execution_count": 5,
   "id": "65d836f5",
   "metadata": {},
   "outputs": [
    {
     "data": {
      "text/plain": [
       "pandas.core.frame.DataFrame"
      ]
     },
     "execution_count": 5,
     "metadata": {},
     "output_type": "execute_result"
    }
   ],
   "source": [
    "type(data)"
   ]
  },
  {
   "cell_type": "code",
   "execution_count": 6,
   "id": "aaf47099",
   "metadata": {},
   "outputs": [
    {
     "data": {
      "text/html": [
       "<div>\n",
       "<style scoped>\n",
       "    .dataframe tbody tr th:only-of-type {\n",
       "        vertical-align: middle;\n",
       "    }\n",
       "\n",
       "    .dataframe tbody tr th {\n",
       "        vertical-align: top;\n",
       "    }\n",
       "\n",
       "    .dataframe thead th {\n",
       "        text-align: right;\n",
       "    }\n",
       "</style>\n",
       "<table border=\"1\" class=\"dataframe\">\n",
       "  <thead>\n",
       "    <tr style=\"text-align: right;\">\n",
       "      <th></th>\n",
       "      <th>Open</th>\n",
       "      <th>High</th>\n",
       "      <th>Low</th>\n",
       "      <th>Close</th>\n",
       "      <th>Adj Close</th>\n",
       "      <th>Volume</th>\n",
       "    </tr>\n",
       "    <tr>\n",
       "      <th>Date</th>\n",
       "      <th></th>\n",
       "      <th></th>\n",
       "      <th></th>\n",
       "      <th></th>\n",
       "      <th></th>\n",
       "      <th></th>\n",
       "    </tr>\n",
       "  </thead>\n",
       "  <tbody>\n",
       "    <tr>\n",
       "      <th>2017-08-21</th>\n",
       "      <td>144.333328</td>\n",
       "      <td>145.916672</td>\n",
       "      <td>143.041672</td>\n",
       "      <td>143.333328</td>\n",
       "      <td>107.439514</td>\n",
       "      <td>4958263</td>\n",
       "    </tr>\n",
       "    <tr>\n",
       "      <th>2017-08-22</th>\n",
       "      <td>144.833328</td>\n",
       "      <td>144.875000</td>\n",
       "      <td>139.333328</td>\n",
       "      <td>139.750000</td>\n",
       "      <td>104.753517</td>\n",
       "      <td>5514501</td>\n",
       "    </tr>\n",
       "    <tr>\n",
       "      <th>2017-08-23</th>\n",
       "      <td>140.000000</td>\n",
       "      <td>142.583328</td>\n",
       "      <td>139.666672</td>\n",
       "      <td>141.875000</td>\n",
       "      <td>106.346382</td>\n",
       "      <td>5016500</td>\n",
       "    </tr>\n",
       "    <tr>\n",
       "      <th>2017-08-24</th>\n",
       "      <td>142.500000</td>\n",
       "      <td>143.000000</td>\n",
       "      <td>140.208328</td>\n",
       "      <td>140.833328</td>\n",
       "      <td>105.565575</td>\n",
       "      <td>5959692</td>\n",
       "    </tr>\n",
       "    <tr>\n",
       "      <th>2017-08-28</th>\n",
       "      <td>141.416672</td>\n",
       "      <td>145.000000</td>\n",
       "      <td>141.416672</td>\n",
       "      <td>144.416672</td>\n",
       "      <td>108.251549</td>\n",
       "      <td>6243884</td>\n",
       "    </tr>\n",
       "  </tbody>\n",
       "</table>\n",
       "</div>"
      ],
      "text/plain": [
       "                  Open        High         Low       Close   Adj Close  \\\n",
       "Date                                                                     \n",
       "2017-08-21  144.333328  145.916672  143.041672  143.333328  107.439514   \n",
       "2017-08-22  144.833328  144.875000  139.333328  139.750000  104.753517   \n",
       "2017-08-23  140.000000  142.583328  139.666672  141.875000  106.346382   \n",
       "2017-08-24  142.500000  143.000000  140.208328  140.833328  105.565575   \n",
       "2017-08-28  141.416672  145.000000  141.416672  144.416672  108.251549   \n",
       "\n",
       "             Volume  \n",
       "Date                 \n",
       "2017-08-21  4958263  \n",
       "2017-08-22  5514501  \n",
       "2017-08-23  5016500  \n",
       "2017-08-24  5959692  \n",
       "2017-08-28  6243884  "
      ]
     },
     "execution_count": 6,
     "metadata": {},
     "output_type": "execute_result"
    }
   ],
   "source": [
    "data.head()"
   ]
  },
  {
   "cell_type": "code",
   "execution_count": 7,
   "id": "dde21584",
   "metadata": {},
   "outputs": [
    {
     "data": {
      "text/plain": [
       "1236"
      ]
     },
     "execution_count": 7,
     "metadata": {},
     "output_type": "execute_result"
    }
   ],
   "source": [
    "len(data)"
   ]
  },
  {
   "cell_type": "code",
   "execution_count": 8,
   "id": "37ef76c7",
   "metadata": {
    "scrolled": true
   },
   "outputs": [
    {
     "data": {
      "text/html": [
       "<div>\n",
       "<style scoped>\n",
       "    .dataframe tbody tr th:only-of-type {\n",
       "        vertical-align: middle;\n",
       "    }\n",
       "\n",
       "    .dataframe tbody tr th {\n",
       "        vertical-align: top;\n",
       "    }\n",
       "\n",
       "    .dataframe thead th {\n",
       "        text-align: right;\n",
       "    }\n",
       "</style>\n",
       "<table border=\"1\" class=\"dataframe\">\n",
       "  <thead>\n",
       "    <tr style=\"text-align: right;\">\n",
       "      <th></th>\n",
       "      <th>Open</th>\n",
       "      <th>High</th>\n",
       "      <th>Low</th>\n",
       "      <th>Close</th>\n",
       "      <th>Adj Close</th>\n",
       "      <th>Volume</th>\n",
       "    </tr>\n",
       "    <tr>\n",
       "      <th>Date</th>\n",
       "      <th></th>\n",
       "      <th></th>\n",
       "      <th></th>\n",
       "      <th></th>\n",
       "      <th></th>\n",
       "      <th></th>\n",
       "    </tr>\n",
       "  </thead>\n",
       "  <tbody>\n",
       "    <tr>\n",
       "      <th>2022-08-12</th>\n",
       "      <td>153.699997</td>\n",
       "      <td>159.000000</td>\n",
       "      <td>152.600006</td>\n",
       "      <td>158.500000</td>\n",
       "      <td>158.500000</td>\n",
       "      <td>17998843</td>\n",
       "    </tr>\n",
       "    <tr>\n",
       "      <th>2022-08-16</th>\n",
       "      <td>159.000000</td>\n",
       "      <td>159.800003</td>\n",
       "      <td>156.949997</td>\n",
       "      <td>158.750000</td>\n",
       "      <td>158.750000</td>\n",
       "      <td>8309725</td>\n",
       "    </tr>\n",
       "    <tr>\n",
       "      <th>2022-08-17</th>\n",
       "      <td>159.000000</td>\n",
       "      <td>163.649994</td>\n",
       "      <td>159.000000</td>\n",
       "      <td>161.449997</td>\n",
       "      <td>161.449997</td>\n",
       "      <td>19674110</td>\n",
       "    </tr>\n",
       "    <tr>\n",
       "      <th>2022-08-18</th>\n",
       "      <td>161.449997</td>\n",
       "      <td>162.649994</td>\n",
       "      <td>159.899994</td>\n",
       "      <td>160.800003</td>\n",
       "      <td>160.800003</td>\n",
       "      <td>9585888</td>\n",
       "    </tr>\n",
       "    <tr>\n",
       "      <th>2022-08-19</th>\n",
       "      <td>161.050003</td>\n",
       "      <td>161.649994</td>\n",
       "      <td>157.149994</td>\n",
       "      <td>157.750000</td>\n",
       "      <td>157.750000</td>\n",
       "      <td>9599472</td>\n",
       "    </tr>\n",
       "  </tbody>\n",
       "</table>\n",
       "</div>"
      ],
      "text/plain": [
       "                  Open        High         Low       Close   Adj Close  \\\n",
       "Date                                                                     \n",
       "2022-08-12  153.699997  159.000000  152.600006  158.500000  158.500000   \n",
       "2022-08-16  159.000000  159.800003  156.949997  158.750000  158.750000   \n",
       "2022-08-17  159.000000  163.649994  159.000000  161.449997  161.449997   \n",
       "2022-08-18  161.449997  162.649994  159.899994  160.800003  160.800003   \n",
       "2022-08-19  161.050003  161.649994  157.149994  157.750000  157.750000   \n",
       "\n",
       "              Volume  \n",
       "Date                  \n",
       "2022-08-12  17998843  \n",
       "2022-08-16   8309725  \n",
       "2022-08-17  19674110  \n",
       "2022-08-18   9585888  \n",
       "2022-08-19   9599472  "
      ]
     },
     "execution_count": 8,
     "metadata": {},
     "output_type": "execute_result"
    }
   ],
   "source": [
    "data.tail()"
   ]
  },
  {
   "cell_type": "code",
   "execution_count": 9,
   "id": "32115544",
   "metadata": {},
   "outputs": [],
   "source": [
    "opn = data[['Open']]"
   ]
  },
  {
   "cell_type": "code",
   "execution_count": 10,
   "id": "ce865bab",
   "metadata": {
    "scrolled": true
   },
   "outputs": [
    {
     "data": {
      "text/plain": [
       "<AxesSubplot:xlabel='Date'>"
      ]
     },
     "execution_count": 10,
     "metadata": {},
     "output_type": "execute_result"
    },
    {
     "data": {
      "image/png": "[encoded data removed]",
      "text/plain": [
       "<Figure size 432x288 with 1 Axes>"
      ]
     },
     "metadata": {
      "needs_background": "light"
     },
     "output_type": "display_data"
    }
   ],
   "source": [
    "#plot of open prizes\n",
    "opn.plot()"
   ]
  },
  {
   "cell_type": "code",
   "execution_count": 11,
   "id": "557a6bd4",
   "metadata": {},
   "outputs": [],
   "source": [
    "import matplotlib.pyplot as plt"
   ]
  },
  {
   "cell_type": "code",
   "execution_count": 12,
   "id": "b6625c74",
   "metadata": {},
   "outputs": [
    {
     "data": {
      "text/plain": [
       "array([[144.33332825],\n",
       "       [144.83332825],\n",
       "       [140.        ],\n",
       "       ...,\n",
       "       [159.        ],\n",
       "       [161.44999695],\n",
       "       [161.05000305]])"
      ]
     },
     "execution_count": 12,
     "metadata": {},
     "output_type": "execute_result"
    }
   ],
   "source": [
    "ds = opn.values\n",
    "ds"
   ]
  },
  {
   "cell_type": "code",
   "execution_count": 13,
   "id": "235c1493",
   "metadata": {},
   "outputs": [
    {
     "data": {
      "text/plain": [
       "[<matplotlib.lines.Line2D at 0x25a98f94730>]"
      ]
     },
     "execution_count": 13,
     "metadata": {},
     "output_type": "execute_result"
    },
    {
     "data": {
      "image/png": "[encoded data removed]",
      "text/plain": [
       "<Figure size 432x288 with 1 Axes>"
      ]
     },
     "metadata": {
      "needs_background": "light"
     },
     "output_type": "display_data"
    }
   ],
   "source": [
    "plt.plot(ds)"
   ]
  },
  {
   "cell_type": "code",
   "execution_count": 14,
   "id": "9c3924ee",
   "metadata": {},
   "outputs": [],
   "source": [
    "import numpy as np"
   ]
  },
  {
   "cell_type": "code",
   "execution_count": 15,
   "id": "a338809b",
   "metadata": {},
   "outputs": [],
   "source": [
    "from sklearn.preprocessing import MinMaxScaler"
   ]
  },
  {
   "cell_type": "code",
   "execution_count": 16,
   "id": "d6c8137a",
   "metadata": {},
   "outputs": [],
   "source": [
    "# using MinMaxScalar for normalizing data between 0 and 1\n",
    "normalizer = MinMaxScaler(feature_range=(0,1))\n",
    "ds_scaled = normalizer.fit_transform(np.array(ds).reshape(-1,1))"
   ]
  },
  {
   "cell_type": "code",
   "execution_count": 17,
   "id": "37f8f048",
   "metadata": {},
   "outputs": [
    {
     "data": {
      "text/plain": [
       "(1236, 1236)"
      ]
     },
     "execution_count": 17,
     "metadata": {},
     "output_type": "execute_result"
    }
   ],
   "source": [
    "len(ds_scaled), len(ds)"
   ]
  },
  {
   "cell_type": "code",
   "execution_count": 18,
   "id": "6dfd37bb",
   "metadata": {},
   "outputs": [],
   "source": [
    "#Definig test and train data size\n",
    "train_size = int(len(ds_scaled)*0.70)\n",
    "test_size = len(ds_scaled) - train_size"
   ]
  },
  {
   "cell_type": "code",
   "execution_count": 19,
   "id": "9698de64",
   "metadata": {},
   "outputs": [
    {
     "data": {
      "text/plain": [
       "(865, 371)"
      ]
     },
     "execution_count": 19,
     "metadata": {},
     "output_type": "execute_result"
    }
   ],
   "source": [
    "train_size, test_size"
   ]
  },
  {
   "cell_type": "code",
   "execution_count": 20,
   "id": "fbfdb2ea",
   "metadata": {},
   "outputs": [],
   "source": [
    "# now splitting data between train and test\n",
    "ds_train, ds_test = ds_scaled[0:train_size,:], ds_scaled[train_size:len(ds_scaled),:1]"
   ]
  },
  {
   "cell_type": "code",
   "execution_count": 21,
   "id": "225b1dbe",
   "metadata": {},
   "outputs": [
    {
     "data": {
      "text/plain": [
       "(865, 371)"
      ]
     },
     "execution_count": 21,
     "metadata": {},
     "output_type": "execute_result"
    }
   ],
   "source": [
    "len(ds_train),len(ds_test)"
   ]
  },
  {
   "cell_type": "code",
   "execution_count": 22,
   "id": "cb876692",
   "metadata": {},
   "outputs": [],
   "source": [
    "#creating dataset in time series for LSTM model\n",
    "#X[100,120,140,160,180] : y[200]\n",
    "def create_ds(dataset,step):\n",
    "    Xtrain , Ytrain = [] ,[]\n",
    "    for i in range(len(dataset)-step-1):\n",
    "        a = dataset[i:(i+step), 0]\n",
    "        Xtrain.append(a)\n",
    "        Ytrain.append(dataset[i + step, 0])\n",
    "    return np.array(Xtrain), np.array(Ytrain)"
   ]
  },
  {
   "cell_type": "code",
   "execution_count": 23,
   "id": "7a87da28",
   "metadata": {},
   "outputs": [],
   "source": [
    "#taking 100 days price as one record for training \n",
    "time_stamp = 100\n",
    "x_train, y_train = create_ds(ds_train,time_stamp)\n",
    "x_test, y_test = create_ds(ds_test,time_stamp)"
   ]
  },
  {
   "cell_type": "code",
   "execution_count": 24,
   "id": "37a5da94",
   "metadata": {},
   "outputs": [
    {
     "data": {
      "text/plain": [
       "((764, 100), (764,))"
      ]
     },
     "execution_count": 24,
     "metadata": {},
     "output_type": "execute_result"
    }
   ],
   "source": [
    "x_train.shape,y_train.shape"
   ]
  },
  {
   "cell_type": "code",
   "execution_count": 25,
   "id": "131acb31",
   "metadata": {},
   "outputs": [
    {
     "data": {
      "text/plain": [
       "((270, 100), (270,))"
      ]
     },
     "execution_count": 25,
     "metadata": {},
     "output_type": "execute_result"
    }
   ],
   "source": [
    "x_test.shape, y_test.shape"
   ]
  },
  {
   "cell_type": "code",
   "execution_count": 26,
   "id": "856060e9",
   "metadata": {},
   "outputs": [],
   "source": [
    "x_train = x_train.reshape(x_train.shape[0],x_train.shape[1] , 1)\n",
    "x_test = x_test.reshape(x_test.shape[0],x_test.shape[1] , 1)"
   ]
  },
  {
   "cell_type": "code",
   "execution_count": 27,
   "id": "7c05be24",
   "metadata": {},
   "outputs": [
    {
     "name": "stdout",
     "output_type": "stream",
     "text": [
      "Defaulting to user installation because normal site-packages is not writeable\n",
      "Requirement already satisfied: tensorflow in c:\\users\\dell\\appdata\\roaming\\python\\python39\\site-packages (2.9.1)\n",
      "Requirement already satisfied: numpy>=1.20 in c:\\programdata\\anaconda3\\lib\\site-packages (from tensorflow) (1.21.5)\n",
      "Requirement already satisfied: libclang>=13.0.0 in c:\\users\\dell\\appdata\\roaming\\python\\python39\\site-packages (from tensorflow) (14.0.6)\n",
      "Requirement already satisfied: six>=1.12.0 in c:\\programdata\\anaconda3\\lib\\site-packages (from tensorflow) (1.16.0)\n",
      "Requirement already satisfied: setuptools in c:\\programdata\\anaconda3\\lib\\site-packages (from tensorflow) (61.2.0)\n",
      "Requirement already satisfied: wrapt>=1.11.0 in c:\\programdata\\anaconda3\\lib\\site-packages (from tensorflow) (1.12.1)\n",
      "Requirement already satisfied: termcolor>=1.1.0 in c:\\users\\dell\\appdata\\roaming\\python\\python39\\site-packages (from tensorflow) (1.1.0)\n",
      "Requirement already satisfied: typing-extensions>=3.6.6 in c:\\programdata\\anaconda3\\lib\\site-packages (from tensorflow) (4.1.1)\n",
      "Requirement already satisfied: tensorboard<2.10,>=2.9 in c:\\users\\dell\\appdata\\roaming\\python\\python39\\site-packages (from tensorflow) (2.9.1)\n",
      "Requirement already satisfied: h5py>=2.9.0 in c:\\programdata\\anaconda3\\lib\\site-packages (from tensorflow) (3.6.0)\n",
      "Requirement already satisfied: tensorflow-io-gcs-filesystem>=0.23.1 in c:\\users\\dell\\appdata\\roaming\\python\\python39\\site-packages (from tensorflow) (0.26.0)\n",
      "Requirement already satisfied: protobuf<3.20,>=3.9.2 in c:\\programdata\\anaconda3\\lib\\site-packages (from tensorflow) (3.19.1)\n",
      "Requirement already satisfied: keras<2.10.0,>=2.9.0rc0 in c:\\users\\dell\\appdata\\roaming\\python\\python39\\site-packages (from tensorflow) (2.9.0)\n",
      "Requirement already satisfied: google-pasta>=0.1.1 in c:\\users\\dell\\appdata\\roaming\\python\\python39\\site-packages (from tensorflow) (0.2.0)\n",
      "Requirement already satisfied: keras-preprocessing>=1.1.1 in c:\\users\\dell\\appdata\\roaming\\python\\python39\\site-packages (from tensorflow) (1.1.2)\n",
      "Requirement already satisfied: opt-einsum>=2.3.2 in c:\\users\\dell\\appdata\\roaming\\python\\python39\\site-packages (from tensorflow) (3.3.0)\n",
      "Requirement already satisfied: flatbuffers<2,>=1.12 in c:\\users\\dell\\appdata\\roaming\\python\\python39\\site-packages (from tensorflow) (1.12)\n",
      "Requirement already satisfied: absl-py>=1.0.0 in c:\\users\\dell\\appdata\\roaming\\python\\python39\\site-packages (from tensorflow) (1.2.0)\n",
      "Requirement already satisfied: grpcio<2.0,>=1.24.3 in c:\\programdata\\anaconda3\\lib\\site-packages (from tensorflow) (1.42.0)\n",
      "Requirement already satisfied: gast<=0.4.0,>=0.2.1 in c:\\users\\dell\\appdata\\roaming\\python\\python39\\site-packages (from tensorflow) (0.4.0)\n",
      "Requirement already satisfied: tensorflow-estimator<2.10.0,>=2.9.0rc0 in c:\\users\\dell\\appdata\\roaming\\python\\python39\\site-packages (from tensorflow) (2.9.0)\n",
      "Requirement already satisfied: packaging in c:\\programdata\\anaconda3\\lib\\site-packages (from tensorflow) (21.3)\n",
      "Requirement already satisfied: astunparse>=1.6.0 in c:\\users\\dell\\appdata\\roaming\\python\\python39\\site-packages (from tensorflow) (1.6.3)\n",
      "Requirement already satisfied: wheel<1.0,>=0.23.0 in c:\\programdata\\anaconda3\\lib\\site-packages (from astunparse>=1.6.0->tensorflow) (0.37.1)\n",
      "Requirement already satisfied: google-auth<3,>=1.6.3 in c:\\programdata\\anaconda3\\lib\\site-packages (from tensorboard<2.10,>=2.9->tensorflow) (1.33.0)\n",
      "Requirement already satisfied: tensorboard-plugin-wit>=1.6.0 in c:\\users\\dell\\appdata\\roaming\\python\\python39\\site-packages (from tensorboard<2.10,>=2.9->tensorflow) (1.8.1)\n",
      "Requirement already satisfied: google-auth-oauthlib<0.5,>=0.4.1 in c:\\users\\dell\\appdata\\roaming\\python\\python39\\site-packages (from tensorboard<2.10,>=2.9->tensorflow) (0.4.6)\n",
      "Requirement already satisfied: markdown>=2.6.8 in c:\\programdata\\anaconda3\\lib\\site-packages (from tensorboard<2.10,>=2.9->tensorflow) (3.3.4)\n",
      "Requirement already satisfied: werkzeug>=1.0.1 in c:\\programdata\\anaconda3\\lib\\site-packages (from tensorboard<2.10,>=2.9->tensorflow) (2.0.3)\n",
      "Requirement already satisfied: requests<3,>=2.21.0 in c:\\programdata\\anaconda3\\lib\\site-packages (from tensorboard<2.10,>=2.9->tensorflow) (2.27.1)\n",
      "Requirement already satisfied: tensorboard-data-server<0.7.0,>=0.6.0 in c:\\users\\dell\\appdata\\roaming\\python\\python39\\site-packages (from tensorboard<2.10,>=2.9->tensorflow) (0.6.1)\n",
      "Requirement already satisfied: pyasn1-modules>=0.2.1 in c:\\programdata\\anaconda3\\lib\\site-packages (from google-auth<3,>=1.6.3->tensorboard<2.10,>=2.9->tensorflow) (0.2.8)\n",
      "Requirement already satisfied: rsa<5,>=3.1.4 in c:\\programdata\\anaconda3\\lib\\site-packages (from google-auth<3,>=1.6.3->tensorboard<2.10,>=2.9->tensorflow) (4.7.2)\n",
      "Requirement already satisfied: cachetools<5.0,>=2.0.0 in c:\\programdata\\anaconda3\\lib\\site-packages (from google-auth<3,>=1.6.3->tensorboard<2.10,>=2.9->tensorflow) (4.2.2)\n",
      "Requirement already satisfied: requests-oauthlib>=0.7.0 in c:\\users\\dell\\appdata\\roaming\\python\\python39\\site-packages (from google-auth-oauthlib<0.5,>=0.4.1->tensorboard<2.10,>=2.9->tensorflow) (1.3.1)\n",
      "Requirement already satisfied: pyasn1<0.5.0,>=0.4.6 in c:\\programdata\\anaconda3\\lib\\site-packages (from pyasn1-modules>=0.2.1->google-auth<3,>=1.6.3->tensorboard<2.10,>=2.9->tensorflow) (0.4.8)\n",
      "Requirement already satisfied: charset-normalizer~=2.0.0 in c:\\programdata\\anaconda3\\lib\\site-packages (from requests<3,>=2.21.0->tensorboard<2.10,>=2.9->tensorflow) (2.0.4)\n",
      "Requirement already satisfied: urllib3<1.27,>=1.21.1 in c:\\programdata\\anaconda3\\lib\\site-packages (from requests<3,>=2.21.0->tensorboard<2.10,>=2.9->tensorflow) (1.26.9)\n",
      "Requirement already satisfied: idna<4,>=2.5 in c:\\programdata\\anaconda3\\lib\\site-packages (from requests<3,>=2.21.0->tensorboard<2.10,>=2.9->tensorflow) (3.3)\n",
      "Requirement already satisfied: certifi>=2017.4.17 in c:\\programdata\\anaconda3\\lib\\site-packages (from requests<3,>=2.21.0->tensorboard<2.10,>=2.9->tensorflow) (2021.10.8)\n",
      "Requirement already satisfied: oauthlib>=3.0.0 in c:\\users\\dell\\appdata\\roaming\\python\\python39\\site-packages (from requests-oauthlib>=0.7.0->google-auth-oauthlib<0.5,>=0.4.1->tensorboard<2.10,>=2.9->tensorflow) (3.2.0)\n",
      "Requirement already satisfied: pyparsing!=3.0.5,>=2.0.2 in c:\\programdata\\anaconda3\\lib\\site-packages (from packaging->tensorflow) (3.0.4)\n"
     ]
    }
   ],
   "source": [
    " !pip install tensorflow\n",
    "    \n",
    "\n"
   ]
  },
  {
   "cell_type": "code",
   "execution_count": 28,
   "id": "0a50ad92",
   "metadata": {},
   "outputs": [
    {
     "name": "stdout",
     "output_type": "stream",
     "text": [
      "Defaulting to user installation because normal site-packages is not writeable\n",
      "Requirement already satisfied: keras in c:\\users\\dell\\appdata\\roaming\\python\\python39\\site-packages (2.9.0)\n"
     ]
    }
   ],
   "source": [
    "!pip install keras"
   ]
  },
  {
   "cell_type": "code",
   "execution_count": 29,
   "id": "f1585738",
   "metadata": {},
   "outputs": [],
   "source": [
    "from keras.models import Sequential\n",
    "from keras.layers import Dense, LSTM"
   ]
  },
  {
   "cell_type": "code",
   "execution_count": 30,
   "id": "14c5453f",
   "metadata": {},
   "outputs": [
    {
     "name": "stdout",
     "output_type": "stream",
     "text": [
      "Model: \"sequential\"\n",
      "_________________________________________________________________\n",
      " Layer (type)                Output Shape              Param #   \n",
      "=================================================================\n",
      " lstm (LSTM)                 (None, 100, 50)           10400     \n",
      "                                                                 \n",
      " lstm_1 (LSTM)               (None, 100, 50)           20200     \n",
      "                                                                 \n",
      " lstm_2 (LSTM)               (None, 50)                20200     \n",
      "                                                                 \n",
      " dense (Dense)               (None, 1)                 51        \n",
      "                                                                 \n",
      "=================================================================\n",
      "Total params: 50,851\n",
      "Trainable params: 50,851\n",
      "Non-trainable params: 0\n",
      "_________________________________________________________________\n"
     ]
    }
   ],
   "source": [
    "#creating LSTM Models using keras \n",
    "model = Sequential()\n",
    "model.add(LSTM(units=50,return_sequences=True,input_shape=(x_train.shape[1],1)))\n",
    "model.add(LSTM(units=50,return_sequences=True))\n",
    "model.add(LSTM(units=50))\n",
    "model.add(Dense(units=1,activation='linear'))\n",
    "model.summary()\n",
    "\n"
   ]
  },
  {
   "cell_type": "code",
   "execution_count": 31,
   "id": "b80f092f",
   "metadata": {},
   "outputs": [
    {
     "name": "stdout",
     "output_type": "stream",
     "text": [
      "Epoch 1/100\n",
      "12/12 [==============================] - 13s 389ms/step - loss: 0.0903 - val_loss: 0.0209\n",
      "Epoch 2/100\n",
      "12/12 [==============================] - 2s 199ms/step - loss: 0.0147 - val_loss: 0.0084\n",
      "Epoch 3/100\n",
      "12/12 [==============================] - 2s 183ms/step - loss: 0.0090 - val_loss: 0.0221\n",
      "Epoch 4/100\n",
      "12/12 [==============================] - 2s 183ms/step - loss: 0.0062 - val_loss: 0.0118\n",
      "Epoch 5/100\n",
      "12/12 [==============================] - 2s 179ms/step - loss: 0.0048 - val_loss: 0.0075\n",
      "Epoch 6/100\n",
      "12/12 [==============================] - 2s 183ms/step - loss: 0.0043 - val_loss: 0.0079\n",
      "Epoch 7/100\n",
      "12/12 [==============================] - 2s 185ms/step - loss: 0.0042 - val_loss: 0.0074\n",
      "Epoch 8/100\n",
      "12/12 [==============================] - 2s 184ms/step - loss: 0.0040 - val_loss: 0.0077\n",
      "Epoch 9/100\n",
      "12/12 [==============================] - 2s 187ms/step - loss: 0.0038 - val_loss: 0.0080\n",
      "Epoch 10/100\n",
      "12/12 [==============================] - 2s 184ms/step - loss: 0.0038 - val_loss: 0.0077\n",
      "Epoch 11/100\n",
      "12/12 [==============================] - 2s 182ms/step - loss: 0.0036 - val_loss: 0.0075\n",
      "Epoch 12/100\n",
      "12/12 [==============================] - 2s 191ms/step - loss: 0.0035 - val_loss: 0.0069\n",
      "Epoch 13/100\n",
      "12/12 [==============================] - 2s 193ms/step - loss: 0.0035 - val_loss: 0.0062\n",
      "Epoch 14/100\n",
      "12/12 [==============================] - 2s 191ms/step - loss: 0.0033 - val_loss: 0.0062\n",
      "Epoch 15/100\n",
      "12/12 [==============================] - 2s 188ms/step - loss: 0.0032 - val_loss: 0.0059\n",
      "Epoch 16/100\n",
      "12/12 [==============================] - 2s 187ms/step - loss: 0.0032 - val_loss: 0.0064\n",
      "Epoch 17/100\n",
      "12/12 [==============================] - 2s 194ms/step - loss: 0.0030 - val_loss: 0.0053\n",
      "Epoch 18/100\n",
      "12/12 [==============================] - 3s 238ms/step - loss: 0.0031 - val_loss: 0.0061\n",
      "Epoch 19/100\n",
      "12/12 [==============================] - 3s 260ms/step - loss: 0.0029 - val_loss: 0.0049\n",
      "Epoch 20/100\n",
      "12/12 [==============================] - 3s 221ms/step - loss: 0.0028 - val_loss: 0.0048\n",
      "Epoch 21/100\n",
      "12/12 [==============================] - 2s 202ms/step - loss: 0.0027 - val_loss: 0.0052\n",
      "Epoch 22/100\n",
      "12/12 [==============================] - 3s 280ms/step - loss: 0.0026 - val_loss: 0.0045\n",
      "Epoch 23/100\n",
      "12/12 [==============================] - 3s 246ms/step - loss: 0.0026 - val_loss: 0.0044\n",
      "Epoch 24/100\n",
      "12/12 [==============================] - 3s 224ms/step - loss: 0.0026 - val_loss: 0.0053\n",
      "Epoch 25/100\n",
      "12/12 [==============================] - 3s 211ms/step - loss: 0.0025 - val_loss: 0.0046\n",
      "Epoch 26/100\n",
      "12/12 [==============================] - 2s 182ms/step - loss: 0.0025 - val_loss: 0.0043\n",
      "Epoch 27/100\n",
      "12/12 [==============================] - 3s 245ms/step - loss: 0.0024 - val_loss: 0.0038\n",
      "Epoch 28/100\n",
      "12/12 [==============================] - 3s 227ms/step - loss: 0.0023 - val_loss: 0.0037\n",
      "Epoch 29/100\n",
      "12/12 [==============================] - 3s 257ms/step - loss: 0.0023 - val_loss: 0.0039\n",
      "Epoch 30/100\n",
      "12/12 [==============================] - 2s 189ms/step - loss: 0.0022 - val_loss: 0.0035\n",
      "Epoch 31/100\n",
      "12/12 [==============================] - 2s 183ms/step - loss: 0.0022 - val_loss: 0.0035\n",
      "Epoch 32/100\n",
      "12/12 [==============================] - 2s 190ms/step - loss: 0.0021 - val_loss: 0.0034\n",
      "Epoch 33/100\n",
      "12/12 [==============================] - 2s 195ms/step - loss: 0.0022 - val_loss: 0.0044\n",
      "Epoch 34/100\n",
      "12/12 [==============================] - 2s 192ms/step - loss: 0.0021 - val_loss: 0.0033\n",
      "Epoch 35/100\n",
      "12/12 [==============================] - 2s 199ms/step - loss: 0.0021 - val_loss: 0.0033\n",
      "Epoch 36/100\n",
      "12/12 [==============================] - 2s 190ms/step - loss: 0.0020 - val_loss: 0.0043\n",
      "Epoch 37/100\n",
      "12/12 [==============================] - 2s 187ms/step - loss: 0.0021 - val_loss: 0.0031\n",
      "Epoch 38/100\n",
      "12/12 [==============================] - 2s 186ms/step - loss: 0.0022 - val_loss: 0.0030\n",
      "Epoch 39/100\n",
      "12/12 [==============================] - 2s 190ms/step - loss: 0.0020 - val_loss: 0.0028\n",
      "Epoch 40/100\n",
      "12/12 [==============================] - 2s 197ms/step - loss: 0.0019 - val_loss: 0.0028\n",
      "Epoch 41/100\n",
      "12/12 [==============================] - 2s 193ms/step - loss: 0.0019 - val_loss: 0.0026\n",
      "Epoch 42/100\n",
      "12/12 [==============================] - 2s 196ms/step - loss: 0.0018 - val_loss: 0.0032\n",
      "Epoch 43/100\n",
      "12/12 [==============================] - 2s 193ms/step - loss: 0.0018 - val_loss: 0.0030\n",
      "Epoch 44/100\n",
      "12/12 [==============================] - 2s 189ms/step - loss: 0.0019 - val_loss: 0.0026\n",
      "Epoch 45/100\n",
      "12/12 [==============================] - 2s 187ms/step - loss: 0.0018 - val_loss: 0.0027\n",
      "Epoch 46/100\n",
      "12/12 [==============================] - 2s 191ms/step - loss: 0.0017 - val_loss: 0.0026\n",
      "Epoch 47/100\n",
      "12/12 [==============================] - 2s 196ms/step - loss: 0.0018 - val_loss: 0.0027\n",
      "Epoch 48/100\n",
      "12/12 [==============================] - 2s 195ms/step - loss: 0.0017 - val_loss: 0.0023\n",
      "Epoch 49/100\n",
      "12/12 [==============================] - 2s 197ms/step - loss: 0.0017 - val_loss: 0.0022\n",
      "Epoch 50/100\n",
      "12/12 [==============================] - 3s 260ms/step - loss: 0.0016 - val_loss: 0.0024\n",
      "Epoch 51/100\n",
      "12/12 [==============================] - 2s 184ms/step - loss: 0.0016 - val_loss: 0.0024\n",
      "Epoch 52/100\n",
      "12/12 [==============================] - 2s 183ms/step - loss: 0.0018 - val_loss: 0.0027\n",
      "Epoch 53/100\n",
      "12/12 [==============================] - 2s 193ms/step - loss: 0.0020 - val_loss: 0.0021\n",
      "Epoch 54/100\n",
      "12/12 [==============================] - 3s 257ms/step - loss: 0.0018 - val_loss: 0.0021\n",
      "Epoch 55/100\n",
      "12/12 [==============================] - 2s 202ms/step - loss: 0.0016 - val_loss: 0.0020\n",
      "Epoch 56/100\n",
      "12/12 [==============================] - 3s 212ms/step - loss: 0.0016 - val_loss: 0.0022\n",
      "Epoch 57/100\n",
      "12/12 [==============================] - 3s 226ms/step - loss: 0.0014 - val_loss: 0.0021\n",
      "Epoch 58/100\n",
      "12/12 [==============================] - 2s 181ms/step - loss: 0.0015 - val_loss: 0.0034\n",
      "Epoch 59/100\n",
      "12/12 [==============================] - 2s 184ms/step - loss: 0.0014 - val_loss: 0.0019\n",
      "Epoch 60/100\n",
      "12/12 [==============================] - 2s 193ms/step - loss: 0.0014 - val_loss: 0.0019\n",
      "Epoch 61/100\n",
      "12/12 [==============================] - 2s 193ms/step - loss: 0.0013 - val_loss: 0.0025\n",
      "Epoch 62/100\n",
      "12/12 [==============================] - 2s 194ms/step - loss: 0.0014 - val_loss: 0.0024\n",
      "Epoch 63/100\n",
      "12/12 [==============================] - 2s 192ms/step - loss: 0.0016 - val_loss: 0.0029\n",
      "Epoch 64/100\n",
      "12/12 [==============================] - 2s 182ms/step - loss: 0.0014 - val_loss: 0.0031\n",
      "Epoch 65/100\n",
      "12/12 [==============================] - 2s 184ms/step - loss: 0.0013 - val_loss: 0.0021\n",
      "Epoch 66/100\n",
      "12/12 [==============================] - 2s 184ms/step - loss: 0.0013 - val_loss: 0.0021\n",
      "Epoch 67/100\n",
      "12/12 [==============================] - 2s 193ms/step - loss: 0.0013 - val_loss: 0.0021\n",
      "Epoch 68/100\n",
      "12/12 [==============================] - 2s 192ms/step - loss: 0.0012 - val_loss: 0.0022\n",
      "Epoch 69/100\n",
      "12/12 [==============================] - 2s 194ms/step - loss: 0.0012 - val_loss: 0.0017\n",
      "Epoch 70/100\n",
      "12/12 [==============================] - 2s 196ms/step - loss: 0.0012 - val_loss: 0.0017\n",
      "Epoch 71/100\n",
      "12/12 [==============================] - 2s 187ms/step - loss: 0.0012 - val_loss: 0.0018\n",
      "Epoch 72/100\n",
      "12/12 [==============================] - 2s 184ms/step - loss: 0.0012 - val_loss: 0.0018\n",
      "Epoch 73/100\n",
      "12/12 [==============================] - 2s 184ms/step - loss: 0.0011 - val_loss: 0.0018\n",
      "Epoch 74/100\n",
      "12/12 [==============================] - 2s 194ms/step - loss: 0.0012 - val_loss: 0.0016\n",
      "Epoch 75/100\n",
      "12/12 [==============================] - 2s 195ms/step - loss: 0.0011 - val_loss: 0.0016\n",
      "Epoch 76/100\n",
      "12/12 [==============================] - 2s 195ms/step - loss: 0.0011 - val_loss: 0.0015\n",
      "Epoch 77/100\n",
      "12/12 [==============================] - 2s 193ms/step - loss: 0.0011 - val_loss: 0.0015\n",
      "Epoch 78/100\n",
      "12/12 [==============================] - 2s 184ms/step - loss: 0.0012 - val_loss: 0.0020\n",
      "Epoch 79/100\n",
      "12/12 [==============================] - 2s 186ms/step - loss: 0.0016 - val_loss: 0.0027\n",
      "Epoch 80/100\n",
      "12/12 [==============================] - 2s 211ms/step - loss: 0.0013 - val_loss: 0.0016\n",
      "Epoch 81/100\n",
      "12/12 [==============================] - 2s 206ms/step - loss: 0.0011 - val_loss: 0.0017\n",
      "Epoch 82/100\n",
      "12/12 [==============================] - 2s 191ms/step - loss: 0.0012 - val_loss: 0.0017\n",
      "Epoch 83/100\n",
      "12/12 [==============================] - 2s 193ms/step - loss: 0.0011 - val_loss: 0.0015\n",
      "Epoch 84/100\n",
      "12/12 [==============================] - 2s 191ms/step - loss: 0.0011 - val_loss: 0.0014\n",
      "Epoch 85/100\n",
      "12/12 [==============================] - 2s 184ms/step - loss: 0.0010 - val_loss: 0.0015\n",
      "Epoch 86/100\n",
      "12/12 [==============================] - 2s 185ms/step - loss: 0.0010 - val_loss: 0.0015\n",
      "Epoch 87/100\n",
      "12/12 [==============================] - 2s 202ms/step - loss: 0.0011 - val_loss: 0.0014\n",
      "Epoch 88/100\n",
      "12/12 [==============================] - 2s 199ms/step - loss: 9.8216e-04 - val_loss: 0.0014\n",
      "Epoch 89/100\n",
      "12/12 [==============================] - 2s 200ms/step - loss: 9.4631e-04 - val_loss: 0.0016\n",
      "Epoch 90/100\n",
      "12/12 [==============================] - 2s 200ms/step - loss: 0.0010 - val_loss: 0.0016\n",
      "Epoch 91/100\n",
      "12/12 [==============================] - 2s 190ms/step - loss: 9.8204e-04 - val_loss: 0.0018\n",
      "Epoch 92/100\n",
      "12/12 [==============================] - 2s 184ms/step - loss: 9.5552e-04 - val_loss: 0.0021\n",
      "Epoch 93/100\n",
      "12/12 [==============================] - 2s 196ms/step - loss: 9.0207e-04 - val_loss: 0.0013\n",
      "Epoch 94/100\n",
      "12/12 [==============================] - 2s 191ms/step - loss: 0.0011 - val_loss: 0.0025\n",
      "Epoch 95/100\n",
      "12/12 [==============================] - 2s 194ms/step - loss: 9.7695e-04 - val_loss: 0.0014\n",
      "Epoch 96/100\n",
      "12/12 [==============================] - 2s 193ms/step - loss: 8.8971e-04 - val_loss: 0.0012\n",
      "Epoch 97/100\n",
      "12/12 [==============================] - 2s 197ms/step - loss: 9.8002e-04 - val_loss: 0.0013\n",
      "Epoch 98/100\n",
      "12/12 [==============================] - 2s 187ms/step - loss: 9.6865e-04 - val_loss: 0.0013\n",
      "Epoch 99/100\n",
      "12/12 [==============================] - 2s 183ms/step - loss: 9.0166e-04 - val_loss: 0.0012\n",
      "Epoch 100/100\n",
      "12/12 [==============================] - 2s 183ms/step - loss: 8.8367e-04 - val_loss: 0.0012\n"
     ]
    },
    {
     "data": {
      "text/plain": [
       "<keras.callbacks.History at 0x25aa0b4b1c0>"
      ]
     },
     "execution_count": 31,
     "metadata": {},
     "output_type": "execute_result"
    }
   ],
   "source": [
    "model.compile(loss='mean_squared_error' , optimizer='adam')\n",
    "model.fit(x_train,y_train,validation_data=(x_test,y_test),epochs=100, batch_size=64)"
   ]
  },
  {
   "cell_type": "code",
   "execution_count": 32,
   "id": "1048a119",
   "metadata": {},
   "outputs": [
    {
     "data": {
      "text/plain": [
       "[<matplotlib.lines.Line2D at 0x25aab89b1c0>]"
      ]
     },
     "execution_count": 32,
     "metadata": {},
     "output_type": "execute_result"
    },
    {
     "data": {
      "image/png": "[encoded data removed]",
      "text/plain": [
       "<Figure size 432x288 with 1 Axes>"
      ]
     },
     "metadata": {
      "needs_background": "light"
     },
     "output_type": "display_data"
    }
   ],
   "source": [
    "loss = model.history.history['loss']\n",
    "plt.plot(loss)"
   ]
  },
  {
   "cell_type": "code",
   "execution_count": 33,
   "id": "fd979fa1",
   "metadata": {},
   "outputs": [
    {
     "name": "stdout",
     "output_type": "stream",
     "text": [
      "24/24 [==============================] - 3s 53ms/step\n",
      "9/9 [==============================] - 1s 58ms/step\n"
     ]
    }
   ],
   "source": [
    "# predicting on train and test data\n",
    "train_predict = model.predict(x_train)\n",
    "test_predict = model.predict(x_test)\n"
   ]
  },
  {
   "cell_type": "code",
   "execution_count": 34,
   "id": "e501e465",
   "metadata": {},
   "outputs": [],
   "source": [
    "train_predict = normalizer.inverse_transform(train_predict)\n",
    "test_predict = normalizer.inverse_transform(test_predict)"
   ]
  },
  {
   "cell_type": "code",
   "execution_count": 35,
   "id": "7fd2278d",
   "metadata": {},
   "outputs": [
    {
     "data": {
      "text/plain": [
       "[<matplotlib.lines.Line2D at 0x25aaec26a90>]"
      ]
     },
     "execution_count": 35,
     "metadata": {},
     "output_type": "execute_result"
    },
    {
     "data": {
      "image/png": "[encoded data removed]",
      "text/plain": [
       "<Figure size 432x288 with 1 Axes>"
      ]
     },
     "metadata": {
      "needs_background": "light"
     },
     "output_type": "display_data"
    }
   ],
   "source": [
    "plt.plot(normalizer.inverse_transform(ds_scaled))\n",
    "plt.plot(train_predict)\n",
    "plt.plot(test_predict)"
   ]
  },
  {
   "cell_type": "code",
   "execution_count": 36,
   "id": "5618f5d0",
   "metadata": {},
   "outputs": [
    {
     "data": {
      "text/plain": [
       "numpy.ndarray"
      ]
     },
     "execution_count": 36,
     "metadata": {},
     "output_type": "execute_result"
    }
   ],
   "source": [
    "type(train_predict)"
   ]
  },
  {
   "cell_type": "code",
   "execution_count": 37,
   "id": "1cdd4f6c",
   "metadata": {},
   "outputs": [],
   "source": [
    "test = np.vstack((train_predict,test_predict))"
   ]
  },
  {
   "cell_type": "code",
   "execution_count": 38,
   "id": "47b28eb3",
   "metadata": {},
   "outputs": [
    {
     "data": {
      "text/plain": [
       "[<matplotlib.lines.Line2D at 0x25aaec79b80>]"
      ]
     },
     "execution_count": 38,
     "metadata": {},
     "output_type": "execute_result"
    },
    {
     "data": {
      "image/png": "[encoded data removed]",
      "text/plain": [
       "<Figure size 432x288 with 1 Axes>"
      ]
     },
     "metadata": {
      "needs_background": "light"
     },
     "output_type": "display_data"
    }
   ],
   "source": [
    "# Combining the predicted data to create uniform data visulization \n",
    "\n",
    "plt.plot(normalizer.inverse_transform(ds_scaled))\n",
    "plt.plot(test)"
   ]
  },
  {
   "cell_type": "code",
   "execution_count": 48,
   "id": "12cd8abf",
   "metadata": {},
   "outputs": [
    {
     "data": {
      "text/plain": [
       "371"
      ]
     },
     "execution_count": 48,
     "metadata": {},
     "output_type": "execute_result"
    }
   ],
   "source": [
    "len(ds_test)"
   ]
  },
  {
   "cell_type": "code",
   "execution_count": 49,
   "id": "4e6a0cbf",
   "metadata": {},
   "outputs": [],
   "source": [
    "#Getting the last 100 days record \n",
    "fut_inp = ds_test[271:]"
   ]
  },
  {
   "cell_type": "code",
   "execution_count": 50,
   "id": "7b66e4ca",
   "metadata": {},
   "outputs": [],
   "source": [
    "fut_inp =fut_inp.reshape(1,-1)"
   ]
  },
  {
   "cell_type": "code",
   "execution_count": 51,
   "id": "5e8e1eae",
   "metadata": {},
   "outputs": [],
   "source": [
    "tmp_inp = list(fut_inp)"
   ]
  },
  {
   "cell_type": "code",
   "execution_count": 52,
   "id": "663755d7",
   "metadata": {},
   "outputs": [
    {
     "data": {
      "text/plain": [
       "(1, 100)"
      ]
     },
     "execution_count": 52,
     "metadata": {},
     "output_type": "execute_result"
    }
   ],
   "source": [
    "fut_inp.shape"
   ]
  },
  {
   "cell_type": "code",
   "execution_count": 53,
   "id": "48908808",
   "metadata": {},
   "outputs": [],
   "source": [
    "# creating list of the last 100 data \n",
    "\n",
    "tmp_inp= tmp_inp[0].tolist()"
   ]
  },
  {
   "cell_type": "code",
   "execution_count": 55,
   "id": "0ba57238",
   "metadata": {},
   "outputs": [
    {
     "name": "stdout",
     "output_type": "stream",
     "text": [
      "[[0.9471104741096497], [0.9451848268508911], [0.9390615820884705], [0.9320892691612244], [0.9252228736877441], [0.9187766909599304], [0.9128912091255188], [0.907597005367279], [0.9028344750404358], [0.8984875679016113], [0.8944190144538879], [0.8904983997344971], [0.8866208791732788], [0.882713794708252], [0.8787384629249573], [0.8746875524520874], [0.8705766797065735], [0.8664365410804749], [0.8623064756393433], [0.8582268953323364], [0.8542355895042419], [0.8503631949424744], [0.8466342091560364], [0.8430647850036621], [0.8396642804145813], [0.83643639087677], [0.833381175994873], [0.8304950594902039], [0.8277738690376282], [0.8252121806144714]]\n"
     ]
    }
   ],
   "source": [
    "# predicting next 30 days price suing the current data\n",
    "# it will predict in sliding window manner (algorithm ) with stride 1\n",
    "\n",
    "lst_output =[]\n",
    "n_steps=100\n",
    "i=0\n",
    "while(i<30):\n",
    "    if(len(tmp_inp)>100):\n",
    "        fut_inp= np.array(tmp_inp[1:])\n",
    "        fut_inp = fut_inp.reshape(1,-1)\n",
    "        fut_inp = fut_inp.reshape((1,n_steps,1))\n",
    "        yhat = model.predict(fut_inp, verbose=0)\n",
    "        tmp_inp.extend(yhat[0].tolist())\n",
    "        tmp_inp = tmp_inp[1:]\n",
    "        lst_output.extend(yhat.tolist())\n",
    "        i=i+1\n",
    "    else:\n",
    "        fut_inp = fut_inp.reshape(1, n_steps, 1)\n",
    "        yhat=model.predict(fut_inp,verbose=0)\n",
    "        tmp_inp.extend(yhat[0].tolist())\n",
    "        lst_output.extend(yhat.tolist())\n",
    "        i=i+1\n",
    "print(lst_output)\n",
    "        "
   ]
  },
  {
   "cell_type": "code",
   "execution_count": 56,
   "id": "f893431a",
   "metadata": {},
   "outputs": [
    {
     "data": {
      "text/plain": [
       "1236"
      ]
     },
     "execution_count": 56,
     "metadata": {},
     "output_type": "execute_result"
    }
   ],
   "source": [
    "len(ds_scaled)"
   ]
  },
  {
   "cell_type": "code",
   "execution_count": 59,
   "id": "4336b117",
   "metadata": {},
   "outputs": [],
   "source": [
    "# creating a dummy plane to plot graph one after another\n",
    "\n",
    "plot_new = np.arange(1,101)\n",
    "plot_pred = np.arange(101,131)\n"
   ]
  },
  {
   "cell_type": "code",
   "execution_count": 60,
   "id": "b0d74523",
   "metadata": {},
   "outputs": [
    {
     "data": {
      "text/plain": [
       "[<matplotlib.lines.Line2D at 0x25aaecec460>]"
      ]
     },
     "execution_count": 60,
     "metadata": {},
     "output_type": "execute_result"
    },
    {
     "data": {
      "image/png": "[encoded data removed]",
      "text/plain": [
       "<Figure size 432x288 with 1 Axes>"
      ]
     },
     "metadata": {
      "needs_background": "light"
     },
     "output_type": "display_data"
    }
   ],
   "source": [
    "plt.plot(plot_new,normalizer.inverse_transform(ds_scaled[1136:]))\n",
    "plt.plot(plot_pred,normalizer.inverse_transform(lst_output))"
   ]
  },
  {
   "cell_type": "code",
   "execution_count": 61,
   "id": "3c3501f3",
   "metadata": {},
   "outputs": [
    {
     "data": {
      "text/plain": [
       "1236"
      ]
     },
     "execution_count": 61,
     "metadata": {},
     "output_type": "execute_result"
    }
   ],
   "source": [
    "ds_new= ds_scaled.tolist()\n",
    "\n",
    "\n",
    "len(ds_new)"
   ]
  },
  {
   "cell_type": "code",
   "execution_count": 66,
   "id": "9f6551a2",
   "metadata": {
    "scrolled": false
   },
   "outputs": [
    {
     "data": {
      "text/plain": [
       "[<matplotlib.lines.Line2D at 0x25ab0fa1340>]"
      ]
     },
     "execution_count": 66,
     "metadata": {},
     "output_type": "execute_result"
    },
    {
     "data": {
      "image/png": "[encoded data removed]",
      "text/plain": [
       "<Figure size 432x288 with 1 Axes>"
      ]
     },
     "metadata": {
      "needs_background": "light"
     },
     "output_type": "display_data"
    }
   ],
   "source": [
    "# extend helps us to fill the missing values with approx value \n",
    "\n",
    "ds_new.extend(lst_output)\n",
    "plt.plot(ds_new[1200:])"
   ]
  },
  {
   "cell_type": "code",
   "execution_count": 63,
   "id": "8fe03b63",
   "metadata": {},
   "outputs": [],
   "source": [
    "# creating final data for plottimg \n",
    "final_graph = normalizer.inverse_transform(ds_new).tolist()"
   ]
  },
  {
   "cell_type": "code",
   "execution_count": 64,
   "id": "84c42753",
   "metadata": {},
   "outputs": [
    {
     "data": {
      "text/plain": [
       "<matplotlib.legend.Legend at 0x25aaed6ed90>"
      ]
     },
     "execution_count": 64,
     "metadata": {},
     "output_type": "execute_result"
    },
    {
     "data": {
      "image/png": "[encoded data removed]",
      "text/plain": [
       "<Figure size 432x288 with 1 Axes>"
      ]
     },
     "metadata": {
      "needs_background": "light"
     },
     "output_type": "display_data"
    }
   ],
   "source": [
    "# ploting  final results with predicted value after 30 days \n",
    "\n",
    "plt.plot(final_graph,)\n",
    "plt.ylabel('Price')\n",
    "plt.xlabel('Time')\n",
    "plt.title('{0} prediction of next month open'.format(stock_symbol))\n",
    "plt.axhline(y=final_graph[len(final_graph)-1],color ='red',label='NEXT 30D:{0}'.format(float))\n",
    "plt.legend()"
   ]
  },
  {
   "cell_type": "code",
   "execution_count": null,
   "id": "3b82f358",
   "metadata": {},
   "outputs": [],
   "source": []
  },
  {
   "cell_type": "code",
   "execution_count": null,
   "id": "9b8983b3",
   "metadata": {},
   "outputs": [],
   "source": []
  }
 ],
 "metadata": {
  "kernelspec": {
   "display_name": "Python 3 (ipykernel)",
   "language": "python",
   "name": "python3"
  },
  "language_info": {
   "codemirror_mode": {
    "name": "ipython",
    "version": 3
   },
   "file_extension": ".py",
   "mimetype": "text/x-python",
   "name": "python",
   "nbconvert_exporter": "python",
   "pygments_lexer": "ipython3",
   "version": "3.9.12"
  }
 },
 "nbformat": 4,
 "nbformat_minor": 5
}
